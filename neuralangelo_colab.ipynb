{
  "cells": [
    {
      "cell_type": "markdown",
      "metadata": {
        "id": "view-in-github"
      },
      "source": [
        "[![Open In Colab](https://colab.research.google.com/assets/colab-badge.svg)](https://colab.research.google.com/github/camenduru/neuralangelo-colab/blob/main/neuralangelo_colab.ipynb)"
      ]
    },
    {
      "cell_type": "code",
      "execution_count": null,
      "metadata": {
        "id": "VjYy0F2gZIPR"
      },
      "outputs": [],
      "source": [
        "%cd /content\n",
        "\n",
        "!apt-get install \\\n",
        "    cmake \\\n",
        "    libgoogle-glog-dev \\\n",
        "    libgflags-dev \\\n",
        "    libatlas-base-dev \\\n",
        "    libeigen3-dev \\\n",
        "    libsuitesparse-dev \\\n",
        "    libboost-program-options-dev \\\n",
        "    libboost-filesystem-dev \\\n",
        "    libboost-graph-dev \\\n",
        "    libboost-system-dev \\\n",
        "    libboost-test-dev \\\n",
        "    libfreeimage-dev \\\n",
        "    libmetis-dev \\\n",
        "    libglew-dev \\\n",
        "    qtbase5-dev \\\n",
        "    libqt5opengl5-dev \\\n",
        "    libcgal-dev\n",
        "\n",
        "!wget https://huggingface.co/camenduru/neuralangelo/resolve/main/colmap.zip\n",
        "!unzip /content/colmap.zip -d colmap\n",
        "\n",
        "!cp -r /content/colmap/lib/. /usr/local/lib\n",
        "!chmod 755 /content/colmap/bin/colmap\n",
        "!cp -r /content/colmap/bin/. /usr/local/bin\n",
        "\n",
        "!pip install -q commentjson addict pynvml wandb\n",
        "!pip install -q https://huggingface.co/camenduru/CoDeF/resolve/main/tinycudann-1.7-cp310-cp310-linux_x86_64.whl\n",
        "\n",
        "%cd /content\n",
        "!git clone -b dev --recursive https://github.com/camenduru/neuralangelo"
      ]
    },
    {
      "cell_type": "code",
      "execution_count": null,
      "metadata": {},
      "outputs": [],
      "source": [
        "%cd /content/neuralangelo\n",
        "!wget https://huggingface.co/camenduru/neuralangelo/resolve/main/lego.mp4 -O /content/lego.mp4\n",
        "EXPERIMENT=\"lego\"\n",
        "PATH_TO_VIDEO=\"/content/lego.mp4\"\n",
        "SKIP_FRAME_RATE=2\n",
        "SCENE_TYPE=\"object\"\n",
        "!bash /content/neuralangelo/projects/neuralangelo/scripts/preprocess.sh {EXPERIMENT} {PATH_TO_VIDEO} {SKIP_FRAME_RATE} {SCENE_TYPE}"
      ]
    },
    {
      "cell_type": "code",
      "execution_count": null,
      "metadata": {},
      "outputs": [],
      "source": [
        "!wandb login"
      ]
    },
    {
      "cell_type": "code",
      "execution_count": null,
      "metadata": {},
      "outputs": [],
      "source": [
        "%cd /content/neuralangelo\n",
        "EXPERIMENT=\"lego\"\n",
        "GROUP=\"lego_group\"\n",
        "NAME=\"lego\"\n",
        "CONFIG=f\"/content/neuralangelo/projects/neuralangelo/configs/custom/{EXPERIMENT}.yaml\"\n",
        "GPUS=1\n",
        "CHECKPOINT_PATH=\"/content/checkpoint\"\n",
        "!torchrun --nproc_per_node={GPUS} train.py \\\n",
        "    --wandb \\\n",
        "    --wandb_name=neuralangelo \\\n",
        "    --logdir=logs/{GROUP}/{NAME} \\\n",
        "    --config={CONFIG} \\\n",
        "    --show_pbar"
      ]
    }
  ],
  "metadata": {
    "accelerator": "GPU",
    "colab": {
      "gpuType": "T4",
      "provenance": []
    },
    "kernelspec": {
      "display_name": "Python 3",
      "name": "python3"
    },
    "language_info": {
      "name": "python"
    }
  },
  "nbformat": 4,
  "nbformat_minor": 0
}
