{
  "cells": [
    {
      "cell_type": "markdown",
      "metadata": {
        "id": "view-in-github"
      },
      "source": [
        "[![Open In Colab](https://colab.research.google.com/assets/colab-badge.svg)](https://colab.research.google.com/github/camenduru/neuralangelo-colab/blob/main/colmap_colab.ipynb)"
      ]
    },
    {
      "cell_type": "code",
      "execution_count": null,
      "metadata": {
        "id": "VjYy0F2gZIPR"
      },
      "outputs": [],
      "source": [
        "!apt-get install \\\n",
        "    cmake \\\n",
        "    libgoogle-glog-dev \\\n",
        "    libgflags-dev \\\n",
        "    libatlas-base-dev \\\n",
        "    libeigen3-dev \\\n",
        "    libsuitesparse-dev \\\n",
        "    libboost-program-options-dev \\\n",
        "    libboost-filesystem-dev \\\n",
        "    libboost-graph-dev \\\n",
        "    libboost-system-dev \\\n",
        "    libboost-test-dev \\\n",
        "    libfreeimage-dev \\\n",
        "    libmetis-dev \\\n",
        "    libglew-dev \\\n",
        "    qtbase5-dev \\\n",
        "    libqt5opengl5-dev \\\n",
        "    libcgal-dev\n",
        "\n",
        "!wget https://huggingface.co/camenduru/neuralangelo/resolve/main/colmap.zip\n",
        "!unzip /content/colmap.zip -d colmap\n",
        "\n",
        "!cp -r /content/colmap/lib/. /usr/local/lib\n",
        "!chmod 755 /content/colmap/bin/colmap\n",
        "!cp -r /content/colmap/bin/. /usr/local/bin\n",
        "\n",
        "!wget https://huggingface.co/camenduru/neuralangelo/resolve/main/fox.zip -O /content/fox.zip\n",
        "!unzip /content/fox.zip -d /content\n",
        "\n",
        "!pip install commentjson\n",
        "%cd /content"
      ]
    },
    {
      "cell_type": "code",
      "execution_count": null,
      "metadata": {},
      "outputs": [],
      "source": [
        "scene_path = \"/content/fox\" #@param {type:\"string\"}\n",
        "train_path = \"/content/train\"\n",
        "if not os.path.isdir(scene_path):\n",
        "  raise NotADirectoryError(scene_path)\n",
        "!rm -rf {train_path}\n",
        "!mkdir {train_path}\n",
        "!cp -r {scene_path}/. /content/train\n",
        "transforms_path = os.path.join(train_path, f\"transforms.json\")\n",
        "!python ./scripts/colmap2nerf.py --colmap_matcher exhaustive --run_colmap --aabb_scale 4 --images {train_path} --out {transforms_path}\n",
        "\n",
        "train_steps = 2000  #@param {type:\"integer\"}\n",
        "snapshot_path = os.path.join(train_path, f\"{train_steps}.msgpack\")\n",
        "!python ./scripts/run.py --scene {train_path} --mode nerf --n_steps {train_steps} --save_snapshot {snapshot_path}"
      ]
    }
  ],
  "metadata": {
    "accelerator": "GPU",
    "colab": {
      "gpuType": "T4",
      "provenance": []
    },
    "kernelspec": {
      "display_name": "Python 3",
      "name": "python3"
    },
    "language_info": {
      "name": "python"
    }
  },
  "nbformat": 4,
  "nbformat_minor": 0
}
