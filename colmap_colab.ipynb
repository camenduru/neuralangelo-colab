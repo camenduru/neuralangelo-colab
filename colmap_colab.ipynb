{
  "cells": [
    {
      "cell_type": "markdown",
      "metadata": {
        "id": "view-in-github"
      },
      "source": [
        "[![Open In Colab](https://colab.research.google.com/assets/colab-badge.svg)](https://colab.research.google.com/github/camenduru/neuralangelo-colab/blob/main/colmap_colab.ipynb)"
      ]
    },
    {
      "cell_type": "code",
      "execution_count": null,
      "metadata": {
        "id": "VjYy0F2gZIPR"
      },
      "outputs": [],
      "source": [
        "!apt-get install \\\n",
        "    cmake \\\n",
        "    libgoogle-glog-dev \\\n",
        "    libgflags-dev \\\n",
        "    libatlas-base-dev \\\n",
        "    libeigen3-dev \\\n",
        "    libsuitesparse-dev \\\n",
        "    libboost-program-options-dev \\\n",
        "    libboost-filesystem-dev \\\n",
        "    libboost-graph-dev \\\n",
        "    libboost-system-dev \\\n",
        "    libboost-test-dev \\\n",
        "    libfreeimage-dev \\\n",
        "    libmetis-dev \\\n",
        "    libglew-dev \\\n",
        "    qtbase5-dev \\\n",
        "    libqt5opengl5-dev \\\n",
        "    libcgal-dev\n",
        "\n",
        "!wget https://huggingface.co/camenduru/neuralangelo/resolve/main/colmap.zip\n",
        "!unzip /content/colmap.zip -d colmap\n",
        "\n",
        "!cp -r /content/colmap/lib/. /usr/local/lib\n",
        "!chmod 755 /content/colmap/bin/colmap\n",
        "!cp -r /content/colmap/bin/. /usr/local/bin\n",
        "\n",
        "!pip install -q commentjson addict\n",
        "%cd /content"
      ]
    },
    {
      "cell_type": "code",
      "execution_count": null,
      "metadata": {},
      "outputs": [],
      "source": [
        "# !wget https://huggingface.co/camenduru/neuralangelo/resolve/main/fox.zip -O /content/fox.zip\n",
        "# !unzip /content/fox.zip -d /content\n",
        "\n",
        "# !mkdir /content/fox/sparse /content/fox/dense\n",
        "\n",
        "# !colmap feature_extractor \\\n",
        "#     --database_path /content/fox/database.db \\\n",
        "#     --image_path /content/fox \\\n",
        "#     --ImageReader.camera_model=RADIAL \\\n",
        "#     --SiftExtraction.use_gpu=true \\\n",
        "#     --SiftExtraction.num_threads=32 \\\n",
        "#     --ImageReader.single_camera=true # assuming single camera\n",
        "\n",
        "# !colmap sequential_matcher \\\n",
        "#     --database_path /content/fox/database.db \\\n",
        "#     --SiftMatching.use_gpu=true\n",
        "\n",
        "# !colmap mapper \\\n",
        "#     --database_path /content/fox/database.db \\\n",
        "#     --image_path /content/fox \\\n",
        "#     --output_path /content/fox/sparse\n",
        "\n",
        "# !colmap image_undistorter \\\n",
        "#     --image_path /content/fox \\\n",
        "#     --input_path /content/fox/sparse/0 \\\n",
        "#     --output_path /content/fox/dense \\\n",
        "#     --output_type COLMAP \\\n",
        "#     --max_image_size 2000\n",
        "\n",
        "!wget https://huggingface.co/camenduru/neuralangelo/resolve/main/lego.mp4 -O /content/lego.mp4\n",
        "EXPERIMENT=\"lego\"\n",
        "PATH_TO_VIDEO=\"/content/lego.mp4\"\n",
        "SKIP_FRAME_RATE=2\n",
        "SCENE_TYPE=\"object\"\n",
        "!bash /content/neuralangelo/projects/neuralangelo/scripts/preprocess.sh {EXPERIMENT} {PATH_TO_VIDEO} {SKIP_FRAME_RATE} {SCENE_TYPE}"
      ]
    },
    {
      "cell_type": "code",
      "execution_count": null,
      "metadata": {},
      "outputs": [],
      "source": [
        "from google.colab import output\n",
        "output.enable_custom_widget_manager()\n",
        "\n",
        "# from google.colab import output\n",
        "# output.disable_custom_widget_manager()\n",
        "\n",
        "import numpy as np\n",
        "import torch\n",
        "import k3d\n",
        "import json\n",
        "from collections import OrderedDict\n",
        "from projects.nerf.utils import camera, visualize\n",
        "from third_party.colmap.scripts.python.read_write_model import read_model\n",
        "\n",
        "colmap_path = \"/content/neuralangelo/datasets/lego_skip2\"\n",
        "cameras, images, points_3D = read_model(path=f\"{colmap_path}/dense/sparse\", ext=\".bin\")\n",
        "images = OrderedDict(sorted(images.items()))\n",
        "qvecs = torch.from_numpy(np.stack([image.qvec for image in images.values()]))\n",
        "tvecs = torch.from_numpy(np.stack([image.tvec for image in images.values()]))\n",
        "Rs = camera.quaternion.q_to_R(qvecs)\n",
        "poses = torch.cat([Rs, tvecs[..., None]], dim=-1)  # [N,3,4]\n",
        "print(f\"# images: {len(poses)}\")\n",
        "xyzs = torch.from_numpy(np.stack([point.xyz for point in points_3D.values()]))\n",
        "rgbs = np.stack([point.rgb for point in points_3D.values()])\n",
        "rgbs = (rgbs[:, 0] * 2**16 + rgbs[:, 1] * 2**8 + rgbs[:, 2]).astype(np.uint32)\n",
        "print(f\"# points: {len(xyzs)}\")\n",
        "\n",
        "json_fname = f\"{colmap_path}/dense/transforms.json\"\n",
        "with open(json_fname) as file:\n",
        "    meta = json.load(file)\n",
        "center = meta[\"sphere_center\"]\n",
        "radius = meta[\"sphere_radius\"]\n",
        "readjust_center = np.array([0., 0., 0.])\n",
        "readjust_scale = 0.25\n",
        "center += readjust_center\n",
        "radius *= readjust_scale\n",
        "sphere_points = np.random.randn(100000, 3)\n",
        "sphere_points = sphere_points / np.linalg.norm(sphere_points, axis=-1, keepdims=True)\n",
        "sphere_points = sphere_points * radius + center\n",
        "\n",
        "vis_scale = 0.5\n",
        "plot = visualize.k3d_visualize_pose(poses,\n",
        "                                    vis_depth=(0.5 * vis_scale),\n",
        "                                    xyz_length=(0.1 * vis_scale),\n",
        "                                    center_size=(0.05 * vis_scale),\n",
        "                                    xyz_width=(0.02 * vis_scale))\n",
        "plot += k3d.points(xyzs, colors=rgbs, point_size=(0.05 * vis_scale), shader=\"flat\")\n",
        "plot += k3d.points(sphere_points, color=0x4488ff, point_size=0.02, shader=\"flat\")\n",
        "plot.display()\n",
        "plot.camera_fov = 30.0"
      ]
    }
  ],
  "metadata": {
    "accelerator": "GPU",
    "colab": {
      "gpuType": "T4",
      "provenance": []
    },
    "kernelspec": {
      "display_name": "Python 3",
      "name": "python3"
    },
    "language_info": {
      "name": "python"
    }
  },
  "nbformat": 4,
  "nbformat_minor": 0
}
