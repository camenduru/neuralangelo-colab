{
  "cells": [
    {
      "cell_type": "markdown",
      "metadata": {
        "id": "view-in-github"
      },
      "source": [
        "[![Open In Colab](https://colab.research.google.com/assets/colab-badge.svg)](https://colab.research.google.com/github/camenduru/neuralangelo-colab/blob/main/colmap_colab.ipynb)"
      ]
    },
    {
      "cell_type": "code",
      "execution_count": null,
      "metadata": {
        "id": "VjYy0F2gZIPR"
      },
      "outputs": [],
      "source": [
        "%cd /content\n",
        "# !apt -y install -qq aria2\n",
        "\n",
        "!apt-get install \\\n",
        "    cmake \\\n",
        "    libgoogle-glog-dev \\\n",
        "    libgflags-dev \\\n",
        "    libatlas-base-dev \\\n",
        "    libeigen3-dev \\\n",
        "    libsuitesparse-dev \\\n",
        "    libboost-program-options-dev \\\n",
        "    libboost-filesystem-dev \\\n",
        "    libboost-graph-dev \\\n",
        "    libboost-system-dev \\\n",
        "    libboost-test-dev \\\n",
        "    libfreeimage-dev \\\n",
        "    libmetis-dev \\\n",
        "    libglew-dev \\\n",
        "    qtbase5-dev \\\n",
        "    libqt5opengl5-dev \\\n",
        "    libcgal-dev\n",
        "\n",
        "!wget https://huggingface.co/camenduru/neuralangelo/resolve/main/colmap.zip\n",
        "!unzip /content/colmap.zip -d colmap\n",
        "\n",
        "!cp -r /content/colmap/lib/. /usr/local/lib\n",
        "!chmod 755 /content/colmap/bin/colmap\n",
        "!cp -r /content/colmap/bin/. /usr/local/bin\n",
        "\n",
        "!pip install -q commentjson addict pynvml wandb\n",
        "!pip install -q https://huggingface.co/camenduru/CoDeF/resolve/main/tinycudann-1.7-cp310-cp310-linux_x86_64.whl\n",
        "\n",
        "# %cd /content\n",
        "# !git clone --recursive https://github.com/nvlabs/tiny-cuda-nn\n",
        "# %cd /content/tiny-cuda-nn\n",
        "# !cmake . -B build\n",
        "# !cmake --build build --config RelWithDebInfo -j\n",
        "\n",
        "%cd /content\n",
        "!git clone -b dev --recursive https://github.com/camenduru/neuralangelo\n",
        "\n",
        "# !aria2c --console-log-level=error -c -x 16 -s 16 -k 1M https://huggingface.co/camenduru/neuralangelo/resolve/main/toy_example.MOV -d /content/test -o toy_example.MOV\n",
        "# !aria2c --console-log-level=error -c -x 16 -s 16 -k 1M https://huggingface.co/camenduru/neuralangelo/resolve/main/neus.zip -d /content/datasets/dtu -o neus.zip\n",
        "# !aria2c --console-log-level=error -c -x 16 -s 16 -k 1M https://huggingface.co/camenduru/neuralangelo/resolve/main/trainingdata.zip -d /content/test -o trainingdata.zip\n",
        "# !aria2c --console-log-level=error -c -x 16 -s 16 -k 1M https://huggingface.co/camenduru/neuralangelo/raw/main/downloader.py -d /content -o downloader.py\n",
        "# %cd /content/datasets/dtu\n",
        "# !unzip -q neus.zip -d /content/datasets/dtu\n",
        "# %cd /content/neuralangelo\n",
        "# !python /content/neuralangelo/projects/neuralangelo/scripts/convert_dtu_to_json.py --dtu_path /content/datasets/dtu\n",
        "# !bash projects/neuralangelo/scripts/preprocess_dtu.sh /content/datasets/dtu\n",
        "# !python downloader.py --modality video --group both\n",
        "# !python downloader.py --modality image --group intermediate\n",
        "# !python downloader.py -s"
      ]
    },
    {
      "cell_type": "code",
      "execution_count": null,
      "metadata": {},
      "outputs": [],
      "source": [
        "# !wget https://huggingface.co/camenduru/neuralangelo/resolve/main/fox.zip -O /content/fox.zip\n",
        "# !unzip /content/fox.zip -d /content\n",
        "\n",
        "# !mkdir /content/fox/sparse /content/fox/dense\n",
        "\n",
        "# !colmap feature_extractor \\\n",
        "#     --database_path /content/fox/database.db \\\n",
        "#     --image_path /content/fox \\\n",
        "#     --ImageReader.camera_model=RADIAL \\\n",
        "#     --SiftExtraction.use_gpu=true \\\n",
        "#     --SiftExtraction.num_threads=32 \\\n",
        "#     --ImageReader.single_camera=true # assuming single camera\n",
        "\n",
        "# !colmap sequential_matcher \\\n",
        "#     --database_path /content/fox/database.db \\\n",
        "#     --SiftMatching.use_gpu=true\n",
        "\n",
        "# !colmap mapper \\\n",
        "#     --database_path /content/fox/database.db \\\n",
        "#     --image_path /content/fox \\\n",
        "#     --output_path /content/fox/sparse\n",
        "\n",
        "# !colmap image_undistorter \\\n",
        "#     --image_path /content/fox \\\n",
        "#     --input_path /content/fox/sparse/0 \\\n",
        "#     --output_path /content/fox/dense \\\n",
        "#     --output_type COLMAP \\\n",
        "#     --max_image_size 2000\n",
        "\n",
        "%cd /content/neuralangelo\n",
        "!wget https://huggingface.co/camenduru/neuralangelo/resolve/main/lego.mp4 -O /content/lego.mp4\n",
        "EXPERIMENT=\"lego\"\n",
        "PATH_TO_VIDEO=\"/content/lego.mp4\"\n",
        "SKIP_FRAME_RATE=2\n",
        "SCENE_TYPE=\"object\"\n",
        "!bash /content/neuralangelo/projects/neuralangelo/scripts/preprocess.sh {EXPERIMENT} {PATH_TO_VIDEO} {SKIP_FRAME_RATE} {SCENE_TYPE}"
      ]
    },
    {
      "cell_type": "code",
      "execution_count": null,
      "metadata": {},
      "outputs": [],
      "source": [
        "!wandb login"
      ]
    },
    {
      "cell_type": "code",
      "execution_count": null,
      "metadata": {},
      "outputs": [],
      "source": [
        "%cd /content/neuralangelo\n",
        "EXPERIMENT=\"lego\"\n",
        "GROUP=\"lego_group\"\n",
        "NAME=\"lego\"\n",
        "CONFIG=f\"/content/neuralangelo/projects/neuralangelo/configs/custom/{EXPERIMENT}.yaml\"\n",
        "GPUS=1\n",
        "CHECKPOINT_PATH=\"/content/checkpoint\"\n",
        "!torchrun --nproc_per_node={GPUS} train.py \\\n",
        "    --wandb \\\n",
        "    --wandb_name=neuralangelo \\\n",
        "    --logdir=logs/{GROUP}/{NAME} \\\n",
        "    --config={CONFIG} \\\n",
        "    --show_pbar"
      ]
    },
    {
      "cell_type": "code",
      "execution_count": null,
      "metadata": {},
      "outputs": [],
      "source": [
        "# !rm -rf /content/neuralangelo/projects/neuralangelo/configs/custom/lego.yaml\n",
        "# !rm -rf /content/neuralangelo/datasets/lego_skip2\n",
        "# !rm -rf /content/neuralangelo/logs/lego_group"
      ]
    }
  ],
  "metadata": {
    "accelerator": "GPU",
    "colab": {
      "gpuType": "T4",
      "provenance": []
    },
    "kernelspec": {
      "display_name": "Python 3",
      "name": "python3"
    },
    "language_info": {
      "name": "python"
    }
  },
  "nbformat": 4,
  "nbformat_minor": 0
}
